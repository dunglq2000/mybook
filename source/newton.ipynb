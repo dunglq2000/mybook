{
 "cells": [
  {
   "cell_type": "code",
   "execution_count": 10,
   "id": "49944f67-e664-4063-a1c6-ef269f9a0879",
   "metadata": {
    "tags": []
   },
   "outputs": [
    {
     "name": "stdout",
     "output_type": "stream",
     "text": [
      "-0.6823272705078125 1.278215261635296e-06\n"
     ]
    }
   ],
   "source": [
    "import numpy as np\n",
    "import matplotlib.pyplot as plt\n",
    "from typing import List\n",
    "from collections.abc import Callable\n",
    "\n",
    "def solve_equation(f: Callable[[float], float], a: float, b: float) -> float:\n",
    "    if f(a) * f(b) > 0:\n",
    "        return None\n",
    "    epsilon = 0.00001\n",
    "    mid = (a + b) / 2\n",
    "    while abs(f(mid)) > epsilon:\n",
    "        mid = (a + b) / 2\n",
    "        if f(mid) == 0: return mid\n",
    "        if f(a) * f(mid) < 0:\n",
    "            b = mid\n",
    "        else:\n",
    "            a = mid\n",
    "        \n",
    "    return mid\n",
    "    \n",
    "def f(x: float) -> float:\n",
    "    return x**3 + x + 1\n",
    "\n",
    "x = solve_equation(f, -1, 0)\n",
    "print(x, f(x))"
   ]
  },
  {
   "cell_type": "code",
   "execution_count": null,
   "id": "70105120-ec58-4cf2-ae4a-f4112a7d1ca2",
   "metadata": {},
   "outputs": [],
   "source": []
  }
 ],
 "metadata": {
  "kernelspec": {
   "display_name": "Python 3 (ipykernel)",
   "language": "python",
   "name": "python3"
  },
  "language_info": {
   "codemirror_mode": {
    "name": "ipython",
    "version": 3
   },
   "file_extension": ".py",
   "mimetype": "text/x-python",
   "name": "python",
   "nbconvert_exporter": "python",
   "pygments_lexer": "ipython3",
   "version": "3.10.7"
  }
 },
 "nbformat": 4,
 "nbformat_minor": 5
}
